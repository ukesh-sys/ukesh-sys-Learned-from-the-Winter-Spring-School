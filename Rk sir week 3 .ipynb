{
 "cells": [
  {
   "cell_type": "code",
   "execution_count": 1,
   "id": "75f6e9fe",
   "metadata": {},
   "outputs": [],
   "source": [
    "import numpy as np"
   ]
  },
  {
   "cell_type": "code",
   "execution_count": 4,
   "id": "14cd0f4b",
   "metadata": {},
   "outputs": [],
   "source": [
    "odarray=np.array([9.5,9.3,9.1,8.7])"
   ]
  },
  {
   "cell_type": "code",
   "execution_count": 16,
   "id": "59bb299a",
   "metadata": {},
   "outputs": [],
   "source": [
    "ndarray=np.array([[9.5,9.3,9.1,8.7],\n",
    "                 [9.5,9.3,9.1,8.7],[9.5,9.3,9.1,8.7]\n",
    "                 ,[9.5,9.3,9.1,8.7]])"
   ]
  },
  {
   "cell_type": "code",
   "execution_count": 17,
   "id": "449bfbc9",
   "metadata": {},
   "outputs": [
    {
     "data": {
      "text/plain": [
       "array([[9.5, 9.3, 9.1, 8.7],\n",
       "       [9.5, 9.3, 9.1, 8.7],\n",
       "       [9.5, 9.3, 9.1, 8.7],\n",
       "       [9.5, 9.3, 9.1, 8.7]])"
      ]
     },
     "execution_count": 17,
     "metadata": {},
     "output_type": "execute_result"
    }
   ],
   "source": [
    "ndarray"
   ]
  },
  {
   "cell_type": "code",
   "execution_count": 18,
   "id": "885438f6",
   "metadata": {},
   "outputs": [],
   "source": [
    "ndarray_stars=ndarray*10"
   ]
  },
  {
   "cell_type": "code",
   "execution_count": 19,
   "id": "df44356d",
   "metadata": {},
   "outputs": [
    {
     "data": {
      "text/plain": [
       "array([9.3, 9.3, 9.3, 9.3])"
      ]
     },
     "execution_count": 19,
     "metadata": {},
     "output_type": "execute_result"
    }
   ],
   "source": [
    "ndarray[:,1]"
   ]
  },
  {
   "cell_type": "code",
   "execution_count": 20,
   "id": "466d71f5",
   "metadata": {},
   "outputs": [
    {
     "ename": "IndexError",
     "evalue": "arrays used as indices must be of integer (or boolean) type",
     "output_type": "error",
     "traceback": [
      "\u001b[1;31m---------------------------------------------------------------------------\u001b[0m",
      "\u001b[1;31mIndexError\u001b[0m                                Traceback (most recent call last)",
      "\u001b[1;32m<ipython-input-20-00154271fdd9>\u001b[0m in \u001b[0;36m<module>\u001b[1;34m\u001b[0m\n\u001b[1;32m----> 1\u001b[1;33m \u001b[0m__\u001b[0m\u001b[1;33m[\u001b[0m\u001b[0m___\u001b[0m\u001b[1;33m,\u001b[0m\u001b[0m__\u001b[0m\u001b[1;33m]\u001b[0m\u001b[1;33m\u001b[0m\u001b[1;33m\u001b[0m\u001b[0m\n\u001b[0m",
      "\u001b[1;31mIndexError\u001b[0m: arrays used as indices must be of integer (or boolean) type"
     ]
    }
   ],
   "source": [
    "__[___,__]"
   ]
  },
  {
   "cell_type": "code",
   "execution_count": null,
   "id": "c588eda3",
   "metadata": {},
   "outputs": [],
   "source": []
  }
 ],
 "metadata": {
  "kernelspec": {
   "display_name": "Python 3",
   "language": "python",
   "name": "python3"
  },
  "language_info": {
   "codemirror_mode": {
    "name": "ipython",
    "version": 3
   },
   "file_extension": ".py",
   "mimetype": "text/x-python",
   "name": "python",
   "nbconvert_exporter": "python",
   "pygments_lexer": "ipython3",
   "version": "3.8.8"
  }
 },
 "nbformat": 4,
 "nbformat_minor": 5
}
