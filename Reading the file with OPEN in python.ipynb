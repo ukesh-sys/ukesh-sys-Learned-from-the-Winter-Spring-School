{
 "cells": [
  {
   "cell_type": "code",
   "execution_count": 28,
   "metadata": {},
   "outputs": [
    {
     "name": "stdout",
     "output_type": "stream",
     "text": [
      " Volume in drive E has no label.\n",
      " Volume Serial Number is E68B-F825\n",
      "\n",
      " Directory of E:\\Learned from the Winter Spring School\n",
      "\n",
      "05/31/2021  05:31 PM    <DIR>          .\n",
      "05/31/2021  05:31 PM    <DIR>          ..\n",
      "05/31/2021  05:18 PM    <DIR>          .ipynb_checkpoints\n",
      "05/30/2021  05:58 PM             6,844 gyrate.xvg\n",
      "05/31/2021  05:19 PM            49,364 mwgc.dat\n",
      "05/31/2021  05:24 PM            15,643 MWGC.txt\n",
      "05/31/2021  05:29 PM             4,268 Reading the file with OPEN in python.ipynb\n",
      "               4 File(s)         76,119 bytes\n",
      "               3 Dir(s)  410,165,452,800 bytes free\n"
     ]
    }
   ],
   "source": [
    "ls"
   ]
  },
  {
   "cell_type": "markdown",
   "metadata": {},
   "source": [
    "# Reading the file with Open"
   ]
  },
  {
   "cell_type": "code",
   "execution_count": 55,
   "metadata": {},
   "outputs": [],
   "source": [
    "import matplotlib.pyplot as plt"
   ]
  },
  {
   "cell_type": "code",
   "execution_count": 56,
   "metadata": {},
   "outputs": [],
   "source": [
    "X=[]\n",
    "Y=[]\n",
    "with open('gyrate.xvg') as f:\n",
    "    for line in f:\n",
    "        if not line.startswith(('#','@')):\n",
    "            X.append(float(line.split()[0]))\n",
    "            Y.append(float(line.split()[1]))"
   ]
  },
  {
   "cell_type": "code",
   "execution_count": 57,
   "metadata": {},
   "outputs": [
    {
     "data": {
      "text/plain": [
       "<matplotlib.collections.PathCollection at 0x23576862be0>"
      ]
     },
     "execution_count": 57,
     "metadata": {},
     "output_type": "execute_result"
    },
    {
     "data": {
      "image/png": "[encoded data removed]",
      "text/plain": [
       "<Figure size 432x288 with 1 Axes>"
      ]
     },
     "metadata": {
      "needs_background": "light"
     },
     "output_type": "display_data"
    }
   ],
   "source": [
    "plt.scatter(X,Y)"
   ]
  },
  {
   "cell_type": "markdown",
   "metadata": {},
   "source": [
    "# Creating a function that takes a file in and give matrix from the file along with its determinant"
   ]
  },
  {
   "cell_type": "code",
   "execution_count": 87,
   "metadata": {},
   "outputs": [],
   "source": [
    "with open('mat.txt','w') as f:\n",
    "    f.write('1 2 3 4 5 \\n')\n",
    "    f.write('11 23 34 43 56 \\n')\n",
    "    f.write('12 22 32 244 54 \\n')\n",
    "    f.write('11 22 3 4 5 \\n')\n",
    "    f.write('124 2 3 4 5 \\n')"
   ]
  },
  {
   "cell_type": "code",
   "execution_count": 94,
   "metadata": {},
   "outputs": [],
   "source": [
    "def matrix_creator(file):\n",
    "    \"\"\"This function takes in the file given and return the matrix\n",
    "    from the file in form array along with its determinant\"\"\"\n",
    "    import numpy as np\n",
    "    mat=[]\n",
    "    with open(file) as f:\n",
    "        for line in f:\n",
    "            mat.append([float(i) for i in line.split()])\n",
    "    return np.array(mat),np.linalg.det(np.array(mat))"
   ]
  },
  {
   "cell_type": "code",
   "execution_count": 96,
   "metadata": {},
   "outputs": [],
   "source": [
    "matrix_creator?"
   ]
  },
  {
   "cell_type": "code",
   "execution_count": null,
   "metadata": {},
   "outputs": [],
   "source": []
  }
 ],
 "metadata": {
  "kernelspec": {
   "display_name": "Python 3",
   "language": "python",
   "name": "python3"
  },
  "language_info": {
   "codemirror_mode": {
    "name": "ipython",
    "version": 3
   },
   "file_extension": ".py",
   "mimetype": "text/x-python",
   "name": "python",
   "nbconvert_exporter": "python",
   "pygments_lexer": "ipython3",
   "version": "3.8.3"
  }
 },
 "nbformat": 4,
 "nbformat_minor": 4
}
